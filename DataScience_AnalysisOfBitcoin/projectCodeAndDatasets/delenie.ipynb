{
 "cells": [
  {
   "cell_type": "code",
   "execution_count": 1,
   "metadata": {},
   "outputs": [
    {
     "name": "stdout",
     "output_type": "stream",
     "text": [
      "date, open, high, low, close, volume, avg\n",
      "Всего в файле 2969 строк.\n"
     ]
    }
   ],
   "source": [
    "import csv\n",
    "import datetime\n",
    "with open('btcusd.csv', encoding='utf-8') as r_file:\n",
    "    file_reader = csv.reader(r_file, delimiter = \",\")\n",
    "    count = 0\n",
    "    file_writer = csv.writer(open('btc1st.csv', mode=\"w\", encoding='utf-8'), delimiter = \",\", lineterminator=\"\\r\")\n",
    "    file_writer.writerow(['date','open','high','low','close','volume'])\n",
    "    for row in file_reader:\n",
    "        if count == 0:\n",
    "            print(f'{\", \".join(row)}')\n",
    "        else:\n",
    "            date = datetime.datetime.strptime (row [0],\"%Y-%m-%d\")   \n",
    "            if date>=datetime.datetime.strptime (\"2012-11-28\", \"%Y-%m-%d\") and date<datetime.datetime.strptime (\"2016-07-11\", \"%Y-%m-%d\"):\n",
    "                    file_writer.writerow([row[0],row[1],row[2],row[3],row[4],row[5]])\n",
    "            \n",
    "        count += 1\n",
    "    print(f'Всего в файле {count} строк.')\n"
   ]
  },
  {
   "cell_type": "code",
   "execution_count": 2,
   "metadata": {},
   "outputs": [
    {
     "name": "stdout",
     "output_type": "stream",
     "text": [
      "Date, Open, High, Low, Close, Adj Close, Volume\n",
      "Всего в файле 2559 строк.\n"
     ]
    }
   ],
   "source": [
    "with open('BTC-USD.csv', encoding='utf-8') as r_file:\n",
    "    file_reader = csv.reader(r_file, delimiter = \",\")\n",
    "    count = 0\n",
    "    file_writer = csv.writer(open('btc2nd.csv', mode=\"w\", encoding='utf-8'), delimiter = \",\", lineterminator=\"\\r\")\n",
    "    file_writer.writerow(['date','open','high','low','close','volume'])\n",
    "    for row in file_reader:\n",
    "        if count == 0:\n",
    "            print(f'{\", \".join(row)}')\n",
    "        else:\n",
    "            date = datetime.datetime.strptime (row [0],\"%Y-%m-%d\")   \n",
    "            if date>=datetime.datetime.strptime (\"2016-07-11\", \"%Y-%m-%d\") and date<datetime.datetime.strptime (\"2020-11-05\",\"%Y-%m-%d\"):\n",
    "                    file_writer.writerow([row[0],row[1],row[2],row[3],row[4],row[6]])\n",
    "            \n",
    "        count += 1\n",
    "    print(f'Всего в файле {count} строк.')"
   ]
  },
  {
   "cell_type": "code",
   "execution_count": 3,
   "metadata": {},
   "outputs": [
    {
     "name": "stdout",
     "output_type": "stream",
     "text": [
      "Date, Open, High, Low, Close, Adj Close, Volume\n",
      "Всего в файле 2559 строк.\n"
     ]
    }
   ],
   "source": [
    "with open('BTC-USD.csv', encoding='utf-8') as r_file:\n",
    "    file_reader = csv.reader(r_file, delimiter = \",\")\n",
    "    count = 0\n",
    "    file_writer = csv.writer(open('btc3rd.csv', mode=\"w\", encoding='utf-8'), delimiter = \",\", lineterminator=\"\\r\")\n",
    "    file_writer.writerow(['date','open','high','low','close','volume'])\n",
    "    for row in file_reader:\n",
    "        if count == 0:\n",
    "            print(f'{\", \".join(row)}')\n",
    "        else:\n",
    "            date = datetime.datetime.strptime (row [0],\"%Y-%m-%d\")   \n",
    "            if date>datetime.datetime.strptime (\"2020-11-05\", \"%Y-%m-%d\"):\n",
    "                    file_writer.writerow([row[0],row[1],row[2],row[3],row[4],row[6]])\n",
    "            \n",
    "        count += 1\n",
    "    print(f'Всего в файле {count} строк.')"
   ]
  },
  {
   "cell_type": "code",
   "execution_count": 4,
   "metadata": {},
   "outputs": [
    {
     "name": "stdout",
     "output_type": "stream",
     "text": [
      "Date, Open, High, Low, Close, Adj Close, Volume\n",
      "Всего в файле 2559 строк.\n"
     ]
    }
   ],
   "source": [
    "with open('BTC-USD.csv', encoding='utf-8') as r_file:\n",
    "    file_reader = csv.reader(r_file, delimiter = \",\")\n",
    "    count = 0\n",
    "    file_writer = csv.writer(open('btc4rd.csv', mode=\"w\", encoding='utf-8'), delimiter = \",\", lineterminator=\"\\r\")\n",
    "    file_writer.writerow(['date','open','high','low','close','volume'])\n",
    "    for row in file_reader:\n",
    "        if count == 0:\n",
    "            print(f'{\", \".join(row)}')\n",
    "        else:\n",
    "            date = datetime.datetime.strptime (row [0],\"%Y-%m-%d\")   \n",
    "            if date>datetime.datetime.strptime (\"2020-07-11\", \"%Y-%m-%d\"):\n",
    "                    file_writer.writerow([row[0],row[1],row[2],row[3],row[4],row[6]])\n",
    "            \n",
    "        count += 1\n",
    "    print(f'Всего в файле {count} строк.')"
   ]
  }
 ],
 "metadata": {
  "interpreter": {
   "hash": "9f791e3f90931721a20babf7223dfd125b5479f6cf8e9eef447e46f53d414c8c"
  },
  "kernelspec": {
   "display_name": "Python 3.9.1 64-bit",
   "language": "python",
   "name": "python3"
  },
  "language_info": {
   "codemirror_mode": {
    "name": "ipython",
    "version": 3
   },
   "file_extension": ".py",
   "mimetype": "text/x-python",
   "name": "python",
   "nbconvert_exporter": "python",
   "pygments_lexer": "ipython3",
   "version": "3.9.1"
  },
  "orig_nbformat": 4
 },
 "nbformat": 4,
 "nbformat_minor": 2
}
